{
 "metadata": {
  "language_info": {
   "codemirror_mode": {
    "name": "ipython",
    "version": 3
   },
   "file_extension": ".py",
   "mimetype": "text/x-python",
   "name": "python",
   "nbconvert_exporter": "python",
   "pygments_lexer": "ipython3",
   "version": "3.8.3-final"
  },
  "orig_nbformat": 2,
  "kernelspec": {
   "name": "Python 3.8.3 64-bit ('base': conda)",
   "display_name": "Python 3.8.3 64-bit ('base': conda)",
   "metadata": {
    "interpreter": {
     "hash": "b3ba2566441a7c06988d0923437866b63cedc61552a5af99d1f4fb67d367b25f"
    }
   }
  }
 },
 "nbformat": 4,
 "nbformat_minor": 2,
 "cells": [
  {
   "cell_type": "code",
   "execution_count": 9,
   "metadata": {},
   "outputs": [],
   "source": [
    "import requests\n",
    "import pandas as pd"
   ]
  },
  {
   "cell_type": "code",
   "execution_count": 6,
   "metadata": {},
   "outputs": [],
   "source": [
    "r = requests.get('https://covid.ourworldindata.org/data/owid-covid-data.json')"
   ]
  },
  {
   "cell_type": "code",
   "execution_count": 182,
   "metadata": {},
   "outputs": [
    {
     "output_type": "execute_result",
     "data": {
      "text/plain": [
       "                            AFG         ALB         DZA      AND          AGO  \\\n",
       "continent                  Asia      Europe      Africa   Europe       Africa   \n",
       "location            Afghanistan     Albania     Algeria  Andorra       Angola   \n",
       "population          3.89283e+07  2.8778e+06  4.3851e+07    77265  3.28663e+07   \n",
       "population_density       54.422     104.871      17.348  163.755        23.89   \n",
       "median_age                 18.6          38        29.1      NaN         16.8   \n",
       "\n",
       "                              AIA                  ATG            ARG  \\\n",
       "continent           North America        North America  South America   \n",
       "location                 Anguilla  Antigua and Barbuda      Argentina   \n",
       "population                  15002                97928    4.51958e+07   \n",
       "population_density            NaN              231.845         16.177   \n",
       "median_age                    NaN                 32.1           31.9   \n",
       "\n",
       "                            ARM            ABW  ...            URY  \\\n",
       "continent                  Asia  North America  ...  South America   \n",
       "location                Armenia          Aruba  ...        Uruguay   \n",
       "population          2.96323e+06         106766  ...    3.47373e+06   \n",
       "population_density      102.931          584.8  ...         19.751   \n",
       "median_age                 35.7           41.2  ...           35.6   \n",
       "\n",
       "                            UZB      VAT            VEN          VNM  \\\n",
       "continent                  Asia   Europe  South America         Asia   \n",
       "location             Uzbekistan  Vatican      Venezuela      Vietnam   \n",
       "population          3.34692e+07      809    2.84359e+07  9.73386e+07   \n",
       "population_density       76.134      NaN         36.253      308.127   \n",
       "median_age                 28.2      NaN             29         32.6   \n",
       "\n",
       "                               ESH         YEM         ZMB          ZWE  \\\n",
       "continent                   Africa        Asia      Africa       Africa   \n",
       "location            Western Sahara       Yemen      Zambia     Zimbabwe   \n",
       "population                  597330  2.9826e+07  1.8384e+07  1.48629e+07   \n",
       "population_density             NaN      53.508      22.995       42.729   \n",
       "median_age                    28.4        20.3        17.7         19.6   \n",
       "\n",
       "                      OWID_WRL  \n",
       "continent                  NaN  \n",
       "location                 World  \n",
       "population          7.7948e+09  \n",
       "population_density      58.045  \n",
       "median_age                30.9  \n",
       "\n",
       "[5 rows x 212 columns]"
      ],
      "text/html": "<div>\n<style scoped>\n    .dataframe tbody tr th:only-of-type {\n        vertical-align: middle;\n    }\n\n    .dataframe tbody tr th {\n        vertical-align: top;\n    }\n\n    .dataframe thead th {\n        text-align: right;\n    }\n</style>\n<table border=\"1\" class=\"dataframe\">\n  <thead>\n    <tr style=\"text-align: right;\">\n      <th></th>\n      <th>AFG</th>\n      <th>ALB</th>\n      <th>DZA</th>\n      <th>AND</th>\n      <th>AGO</th>\n      <th>AIA</th>\n      <th>ATG</th>\n      <th>ARG</th>\n      <th>ARM</th>\n      <th>ABW</th>\n      <th>...</th>\n      <th>URY</th>\n      <th>UZB</th>\n      <th>VAT</th>\n      <th>VEN</th>\n      <th>VNM</th>\n      <th>ESH</th>\n      <th>YEM</th>\n      <th>ZMB</th>\n      <th>ZWE</th>\n      <th>OWID_WRL</th>\n    </tr>\n  </thead>\n  <tbody>\n    <tr>\n      <th>continent</th>\n      <td>Asia</td>\n      <td>Europe</td>\n      <td>Africa</td>\n      <td>Europe</td>\n      <td>Africa</td>\n      <td>North America</td>\n      <td>North America</td>\n      <td>South America</td>\n      <td>Asia</td>\n      <td>North America</td>\n      <td>...</td>\n      <td>South America</td>\n      <td>Asia</td>\n      <td>Europe</td>\n      <td>South America</td>\n      <td>Asia</td>\n      <td>Africa</td>\n      <td>Asia</td>\n      <td>Africa</td>\n      <td>Africa</td>\n      <td>NaN</td>\n    </tr>\n    <tr>\n      <th>location</th>\n      <td>Afghanistan</td>\n      <td>Albania</td>\n      <td>Algeria</td>\n      <td>Andorra</td>\n      <td>Angola</td>\n      <td>Anguilla</td>\n      <td>Antigua and Barbuda</td>\n      <td>Argentina</td>\n      <td>Armenia</td>\n      <td>Aruba</td>\n      <td>...</td>\n      <td>Uruguay</td>\n      <td>Uzbekistan</td>\n      <td>Vatican</td>\n      <td>Venezuela</td>\n      <td>Vietnam</td>\n      <td>Western Sahara</td>\n      <td>Yemen</td>\n      <td>Zambia</td>\n      <td>Zimbabwe</td>\n      <td>World</td>\n    </tr>\n    <tr>\n      <th>population</th>\n      <td>3.89283e+07</td>\n      <td>2.8778e+06</td>\n      <td>4.3851e+07</td>\n      <td>77265</td>\n      <td>3.28663e+07</td>\n      <td>15002</td>\n      <td>97928</td>\n      <td>4.51958e+07</td>\n      <td>2.96323e+06</td>\n      <td>106766</td>\n      <td>...</td>\n      <td>3.47373e+06</td>\n      <td>3.34692e+07</td>\n      <td>809</td>\n      <td>2.84359e+07</td>\n      <td>9.73386e+07</td>\n      <td>597330</td>\n      <td>2.9826e+07</td>\n      <td>1.8384e+07</td>\n      <td>1.48629e+07</td>\n      <td>7.7948e+09</td>\n    </tr>\n    <tr>\n      <th>population_density</th>\n      <td>54.422</td>\n      <td>104.871</td>\n      <td>17.348</td>\n      <td>163.755</td>\n      <td>23.89</td>\n      <td>NaN</td>\n      <td>231.845</td>\n      <td>16.177</td>\n      <td>102.931</td>\n      <td>584.8</td>\n      <td>...</td>\n      <td>19.751</td>\n      <td>76.134</td>\n      <td>NaN</td>\n      <td>36.253</td>\n      <td>308.127</td>\n      <td>NaN</td>\n      <td>53.508</td>\n      <td>22.995</td>\n      <td>42.729</td>\n      <td>58.045</td>\n    </tr>\n    <tr>\n      <th>median_age</th>\n      <td>18.6</td>\n      <td>38</td>\n      <td>29.1</td>\n      <td>NaN</td>\n      <td>16.8</td>\n      <td>NaN</td>\n      <td>32.1</td>\n      <td>31.9</td>\n      <td>35.7</td>\n      <td>41.2</td>\n      <td>...</td>\n      <td>35.6</td>\n      <td>28.2</td>\n      <td>NaN</td>\n      <td>29</td>\n      <td>32.6</td>\n      <td>28.4</td>\n      <td>20.3</td>\n      <td>17.7</td>\n      <td>19.6</td>\n      <td>30.9</td>\n    </tr>\n  </tbody>\n</table>\n<p>5 rows × 212 columns</p>\n</div>"
     },
     "metadata": {},
     "execution_count": 182
    }
   ],
   "source": [
    "df = pd.DataFrame.from_dict(r.json())\n",
    "df.head(5)"
   ]
  },
  {
   "source": [
    "We want rows to be countries not properties so we need to transpose"
   ],
   "cell_type": "markdown",
   "metadata": {}
  },
  {
   "cell_type": "code",
   "execution_count": 197,
   "metadata": {},
   "outputs": [
    {
     "output_type": "execute_result",
     "data": {
      "text/plain": [
       "    continent     location   population population_density median_age  \\\n",
       "AFG      Asia  Afghanistan  3.89283e+07             54.422       18.6   \n",
       "ALB    Europe      Albania   2.8778e+06            104.871         38   \n",
       "DZA    Africa      Algeria   4.3851e+07             17.348       29.1   \n",
       "AND    Europe      Andorra        77265            163.755        NaN   \n",
       "AGO    Africa       Angola  3.28663e+07              23.89       16.8   \n",
       "\n",
       "    aged_65_older aged_70_older gdp_per_capita cardiovasc_death_rate  \\\n",
       "AFG         2.581         1.337        1803.99               597.029   \n",
       "ALB        13.188         8.643        11803.4               304.195   \n",
       "DZA         6.211         3.857        13913.8               278.364   \n",
       "AND           NaN           NaN            NaN               109.135   \n",
       "AGO         2.405         1.362        5819.49               276.045   \n",
       "\n",
       "    diabetes_prevalence handwashing_facilities hospital_beds_per_thousand  \\\n",
       "AFG                9.59                 37.746                        0.5   \n",
       "ALB               10.08                    NaN                       2.89   \n",
       "DZA                6.73                 83.741                        1.9   \n",
       "AND                7.97                    NaN                        NaN   \n",
       "AGO                3.94                 26.664                        NaN   \n",
       "\n",
       "    life_expectancy human_development_index  \\\n",
       "AFG           64.83                   0.498   \n",
       "ALB           78.57                   0.785   \n",
       "DZA           76.88                   0.754   \n",
       "AND           83.73                   0.858   \n",
       "AGO           61.15                   0.581   \n",
       "\n",
       "                                                  data extreme_poverty  \\\n",
       "AFG  [{'date': '2019-12-31', 'new_cases': 0.0, 'new...             NaN   \n",
       "ALB  [{'date': '2020-03-09', 'total_cases': 2.0, 'n...             1.1   \n",
       "DZA  [{'date': '2019-12-31', 'new_cases': 0.0, 'new...             0.5   \n",
       "AND  [{'date': '2020-03-03', 'total_cases': 1.0, 'n...             NaN   \n",
       "AGO  [{'date': '2020-03-22', 'total_cases': 2.0, 'n...             NaN   \n",
       "\n",
       "    female_smokers male_smokers  \n",
       "AFG            NaN          NaN  \n",
       "ALB            7.1         51.2  \n",
       "DZA            0.7         30.4  \n",
       "AND             29         37.8  \n",
       "AGO            NaN          NaN  "
      ],
      "text/html": "<div>\n<style scoped>\n    .dataframe tbody tr th:only-of-type {\n        vertical-align: middle;\n    }\n\n    .dataframe tbody tr th {\n        vertical-align: top;\n    }\n\n    .dataframe thead th {\n        text-align: right;\n    }\n</style>\n<table border=\"1\" class=\"dataframe\">\n  <thead>\n    <tr style=\"text-align: right;\">\n      <th></th>\n      <th>continent</th>\n      <th>location</th>\n      <th>population</th>\n      <th>population_density</th>\n      <th>median_age</th>\n      <th>aged_65_older</th>\n      <th>aged_70_older</th>\n      <th>gdp_per_capita</th>\n      <th>cardiovasc_death_rate</th>\n      <th>diabetes_prevalence</th>\n      <th>handwashing_facilities</th>\n      <th>hospital_beds_per_thousand</th>\n      <th>life_expectancy</th>\n      <th>human_development_index</th>\n      <th>data</th>\n      <th>extreme_poverty</th>\n      <th>female_smokers</th>\n      <th>male_smokers</th>\n    </tr>\n  </thead>\n  <tbody>\n    <tr>\n      <th>AFG</th>\n      <td>Asia</td>\n      <td>Afghanistan</td>\n      <td>3.89283e+07</td>\n      <td>54.422</td>\n      <td>18.6</td>\n      <td>2.581</td>\n      <td>1.337</td>\n      <td>1803.99</td>\n      <td>597.029</td>\n      <td>9.59</td>\n      <td>37.746</td>\n      <td>0.5</td>\n      <td>64.83</td>\n      <td>0.498</td>\n      <td>[{'date': '2019-12-31', 'new_cases': 0.0, 'new...</td>\n      <td>NaN</td>\n      <td>NaN</td>\n      <td>NaN</td>\n    </tr>\n    <tr>\n      <th>ALB</th>\n      <td>Europe</td>\n      <td>Albania</td>\n      <td>2.8778e+06</td>\n      <td>104.871</td>\n      <td>38</td>\n      <td>13.188</td>\n      <td>8.643</td>\n      <td>11803.4</td>\n      <td>304.195</td>\n      <td>10.08</td>\n      <td>NaN</td>\n      <td>2.89</td>\n      <td>78.57</td>\n      <td>0.785</td>\n      <td>[{'date': '2020-03-09', 'total_cases': 2.0, 'n...</td>\n      <td>1.1</td>\n      <td>7.1</td>\n      <td>51.2</td>\n    </tr>\n    <tr>\n      <th>DZA</th>\n      <td>Africa</td>\n      <td>Algeria</td>\n      <td>4.3851e+07</td>\n      <td>17.348</td>\n      <td>29.1</td>\n      <td>6.211</td>\n      <td>3.857</td>\n      <td>13913.8</td>\n      <td>278.364</td>\n      <td>6.73</td>\n      <td>83.741</td>\n      <td>1.9</td>\n      <td>76.88</td>\n      <td>0.754</td>\n      <td>[{'date': '2019-12-31', 'new_cases': 0.0, 'new...</td>\n      <td>0.5</td>\n      <td>0.7</td>\n      <td>30.4</td>\n    </tr>\n    <tr>\n      <th>AND</th>\n      <td>Europe</td>\n      <td>Andorra</td>\n      <td>77265</td>\n      <td>163.755</td>\n      <td>NaN</td>\n      <td>NaN</td>\n      <td>NaN</td>\n      <td>NaN</td>\n      <td>109.135</td>\n      <td>7.97</td>\n      <td>NaN</td>\n      <td>NaN</td>\n      <td>83.73</td>\n      <td>0.858</td>\n      <td>[{'date': '2020-03-03', 'total_cases': 1.0, 'n...</td>\n      <td>NaN</td>\n      <td>29</td>\n      <td>37.8</td>\n    </tr>\n    <tr>\n      <th>AGO</th>\n      <td>Africa</td>\n      <td>Angola</td>\n      <td>3.28663e+07</td>\n      <td>23.89</td>\n      <td>16.8</td>\n      <td>2.405</td>\n      <td>1.362</td>\n      <td>5819.49</td>\n      <td>276.045</td>\n      <td>3.94</td>\n      <td>26.664</td>\n      <td>NaN</td>\n      <td>61.15</td>\n      <td>0.581</td>\n      <td>[{'date': '2020-03-22', 'total_cases': 2.0, 'n...</td>\n      <td>NaN</td>\n      <td>NaN</td>\n      <td>NaN</td>\n    </tr>\n  </tbody>\n</table>\n</div>"
     },
     "metadata": {},
     "execution_count": 197
    }
   ],
   "source": [
    "df2 = df.transpose()\n",
    "df2.head()"
   ]
  },
  {
   "source": [
    "Each entry in the *data* column is actually a list of dicts. Each of these lists is a distinct timeseries dataset. We need to unpack this data. \n",
    "\n",
    "First we can explode the field (this creates a row for each list item)."
   ],
   "cell_type": "markdown",
   "metadata": {}
  },
  {
   "cell_type": "code",
   "execution_count": 198,
   "metadata": {},
   "outputs": [
    {
     "output_type": "execute_result",
     "data": {
      "text/plain": [
       "AFG         {'date': '2019-12-31', 'new_cases': 0.0, 'new_...\n",
       "AFG         {'date': '2020-01-01', 'new_cases': 0.0, 'new_...\n",
       "AFG         {'date': '2020-01-02', 'new_cases': 0.0, 'new_...\n",
       "AFG         {'date': '2020-01-03', 'new_cases': 0.0, 'new_...\n",
       "AFG         {'date': '2020-01-04', 'new_cases': 0.0, 'new_...\n",
       "                                  ...                        \n",
       "OWID_WRL    {'date': '2020-10-20', 'total_cases': 40517993...\n",
       "OWID_WRL    {'date': '2020-10-21', 'total_cases': 40909132...\n",
       "OWID_WRL    {'date': '2020-10-22', 'total_cases': 41353615...\n",
       "OWID_WRL    {'date': '2020-10-23', 'total_cases': 41810959...\n",
       "OWID_WRL    {'date': '2020-10-24', 'total_cases': 42279076...\n",
       "Name: data, Length: 51923, dtype: object"
      ]
     },
     "metadata": {},
     "execution_count": 198
    }
   ],
   "source": [
    "timeseries_packed = df2.explode('data')['data']\n",
    "timeseries_packed"
   ]
  },
  {
   "source": [
    "Then we can expand each of these dicts into a set of fields. `Series.apply` just runs every value through a function of your choice. By converting each value in a `Series` to a `Series`, we end up with a `Series` of `Series`, which is a 2-dimensional dataset, or a `DataFrame`."
   ],
   "cell_type": "markdown",
   "metadata": {}
  },
  {
   "cell_type": "code",
   "execution_count": 199,
   "metadata": {},
   "outputs": [
    {
     "output_type": "execute_result",
     "data": {
      "text/plain": [
       "                date  new_cases  new_deaths  new_cases_per_million  \\\n",
       "AFG       2019-12-31        0.0         0.0                  0.000   \n",
       "AFG       2020-01-01        0.0         0.0                  0.000   \n",
       "AFG       2020-01-02        0.0         0.0                  0.000   \n",
       "AFG       2020-01-03        0.0         0.0                  0.000   \n",
       "AFG       2020-01-04        0.0         0.0                  0.000   \n",
       "...              ...        ...         ...                    ...   \n",
       "OWID_WRL  2020-10-20   348284.0      4670.0                 44.682   \n",
       "OWID_WRL  2020-10-21   391139.0      6405.0                 50.179   \n",
       "OWID_WRL  2020-10-22   444483.0      6740.0                 57.023   \n",
       "OWID_WRL  2020-10-23   457344.0      6349.0                 58.673   \n",
       "OWID_WRL  2020-10-24   468117.0      6250.0                 60.055   \n",
       "\n",
       "          new_deaths_per_million  stringency_index  new_cases_smoothed  \\\n",
       "AFG                        0.000               NaN                 NaN   \n",
       "AFG                        0.000               0.0                 NaN   \n",
       "AFG                        0.000               0.0                 NaN   \n",
       "AFG                        0.000               0.0                 NaN   \n",
       "AFG                        0.000               0.0                 NaN   \n",
       "...                          ...               ...                 ...   \n",
       "OWID_WRL                   0.599               NaN          371120.286   \n",
       "OWID_WRL                   0.822               NaN          379757.429   \n",
       "OWID_WRL                   0.865               NaN          387778.429   \n",
       "OWID_WRL                   0.815               NaN          395632.714   \n",
       "OWID_WRL                   0.802               NaN          405812.857   \n",
       "\n",
       "          new_deaths_smoothed  new_cases_smoothed_per_million  \\\n",
       "AFG                       NaN                             NaN   \n",
       "AFG                       NaN                             NaN   \n",
       "AFG                       NaN                             NaN   \n",
       "AFG                       NaN                             NaN   \n",
       "AFG                       NaN                             NaN   \n",
       "...                       ...                             ...   \n",
       "OWID_WRL             5397.143                          47.611   \n",
       "OWID_WRL             5522.143                          48.719   \n",
       "OWID_WRL             5622.571                          49.748   \n",
       "OWID_WRL             5656.571                          50.756   \n",
       "OWID_WRL             5700.143                          52.062   \n",
       "\n",
       "          new_deaths_smoothed_per_million  ...  total_deaths_per_million  \\\n",
       "AFG                                   NaN  ...                       NaN   \n",
       "AFG                                   NaN  ...                       NaN   \n",
       "AFG                                   NaN  ...                       NaN   \n",
       "AFG                                   NaN  ...                       NaN   \n",
       "AFG                                   NaN  ...                       NaN   \n",
       "...                                   ...  ...                       ...   \n",
       "OWID_WRL                            0.692  ...                   143.630   \n",
       "OWID_WRL                            0.708  ...                   144.452   \n",
       "OWID_WRL                            0.721  ...                   145.317   \n",
       "OWID_WRL                            0.726  ...                   146.131   \n",
       "OWID_WRL                            0.731  ...                   146.933   \n",
       "\n",
       "          total_tests  total_tests_per_thousand  tests_units  \\\n",
       "AFG               NaN                       NaN          NaN   \n",
       "AFG               NaN                       NaN          NaN   \n",
       "AFG               NaN                       NaN          NaN   \n",
       "AFG               NaN                       NaN          NaN   \n",
       "AFG               NaN                       NaN          NaN   \n",
       "...               ...                       ...          ...   \n",
       "OWID_WRL          NaN                       NaN          NaN   \n",
       "OWID_WRL          NaN                       NaN          NaN   \n",
       "OWID_WRL          NaN                       NaN          NaN   \n",
       "OWID_WRL          NaN                       NaN          NaN   \n",
       "OWID_WRL          NaN                       NaN          NaN   \n",
       "\n",
       "          new_tests_smoothed  new_tests_smoothed_per_thousand tests_per_case  \\\n",
       "AFG                      NaN                              NaN            NaN   \n",
       "AFG                      NaN                              NaN            NaN   \n",
       "AFG                      NaN                              NaN            NaN   \n",
       "AFG                      NaN                              NaN            NaN   \n",
       "AFG                      NaN                              NaN            NaN   \n",
       "...                      ...                              ...            ...   \n",
       "OWID_WRL                 NaN                              NaN            NaN   \n",
       "OWID_WRL                 NaN                              NaN            NaN   \n",
       "OWID_WRL                 NaN                              NaN            NaN   \n",
       "OWID_WRL                 NaN                              NaN            NaN   \n",
       "OWID_WRL                 NaN                              NaN            NaN   \n",
       "\n",
       "          positive_rate  new_tests  new_tests_per_thousand  \n",
       "AFG                 NaN        NaN                     NaN  \n",
       "AFG                 NaN        NaN                     NaN  \n",
       "AFG                 NaN        NaN                     NaN  \n",
       "AFG                 NaN        NaN                     NaN  \n",
       "AFG                 NaN        NaN                     NaN  \n",
       "...                 ...        ...                     ...  \n",
       "OWID_WRL            NaN        NaN                     NaN  \n",
       "OWID_WRL            NaN        NaN                     NaN  \n",
       "OWID_WRL            NaN        NaN                     NaN  \n",
       "OWID_WRL            NaN        NaN                     NaN  \n",
       "OWID_WRL            NaN        NaN                     NaN  \n",
       "\n",
       "[51923 rows x 23 columns]"
      ],
      "text/html": "<div>\n<style scoped>\n    .dataframe tbody tr th:only-of-type {\n        vertical-align: middle;\n    }\n\n    .dataframe tbody tr th {\n        vertical-align: top;\n    }\n\n    .dataframe thead th {\n        text-align: right;\n    }\n</style>\n<table border=\"1\" class=\"dataframe\">\n  <thead>\n    <tr style=\"text-align: right;\">\n      <th></th>\n      <th>date</th>\n      <th>new_cases</th>\n      <th>new_deaths</th>\n      <th>new_cases_per_million</th>\n      <th>new_deaths_per_million</th>\n      <th>stringency_index</th>\n      <th>new_cases_smoothed</th>\n      <th>new_deaths_smoothed</th>\n      <th>new_cases_smoothed_per_million</th>\n      <th>new_deaths_smoothed_per_million</th>\n      <th>...</th>\n      <th>total_deaths_per_million</th>\n      <th>total_tests</th>\n      <th>total_tests_per_thousand</th>\n      <th>tests_units</th>\n      <th>new_tests_smoothed</th>\n      <th>new_tests_smoothed_per_thousand</th>\n      <th>tests_per_case</th>\n      <th>positive_rate</th>\n      <th>new_tests</th>\n      <th>new_tests_per_thousand</th>\n    </tr>\n  </thead>\n  <tbody>\n    <tr>\n      <th>AFG</th>\n      <td>2019-12-31</td>\n      <td>0.0</td>\n      <td>0.0</td>\n      <td>0.000</td>\n      <td>0.000</td>\n      <td>NaN</td>\n      <td>NaN</td>\n      <td>NaN</td>\n      <td>NaN</td>\n      <td>NaN</td>\n      <td>...</td>\n      <td>NaN</td>\n      <td>NaN</td>\n      <td>NaN</td>\n      <td>NaN</td>\n      <td>NaN</td>\n      <td>NaN</td>\n      <td>NaN</td>\n      <td>NaN</td>\n      <td>NaN</td>\n      <td>NaN</td>\n    </tr>\n    <tr>\n      <th>AFG</th>\n      <td>2020-01-01</td>\n      <td>0.0</td>\n      <td>0.0</td>\n      <td>0.000</td>\n      <td>0.000</td>\n      <td>0.0</td>\n      <td>NaN</td>\n      <td>NaN</td>\n      <td>NaN</td>\n      <td>NaN</td>\n      <td>...</td>\n      <td>NaN</td>\n      <td>NaN</td>\n      <td>NaN</td>\n      <td>NaN</td>\n      <td>NaN</td>\n      <td>NaN</td>\n      <td>NaN</td>\n      <td>NaN</td>\n      <td>NaN</td>\n      <td>NaN</td>\n    </tr>\n    <tr>\n      <th>AFG</th>\n      <td>2020-01-02</td>\n      <td>0.0</td>\n      <td>0.0</td>\n      <td>0.000</td>\n      <td>0.000</td>\n      <td>0.0</td>\n      <td>NaN</td>\n      <td>NaN</td>\n      <td>NaN</td>\n      <td>NaN</td>\n      <td>...</td>\n      <td>NaN</td>\n      <td>NaN</td>\n      <td>NaN</td>\n      <td>NaN</td>\n      <td>NaN</td>\n      <td>NaN</td>\n      <td>NaN</td>\n      <td>NaN</td>\n      <td>NaN</td>\n      <td>NaN</td>\n    </tr>\n    <tr>\n      <th>AFG</th>\n      <td>2020-01-03</td>\n      <td>0.0</td>\n      <td>0.0</td>\n      <td>0.000</td>\n      <td>0.000</td>\n      <td>0.0</td>\n      <td>NaN</td>\n      <td>NaN</td>\n      <td>NaN</td>\n      <td>NaN</td>\n      <td>...</td>\n      <td>NaN</td>\n      <td>NaN</td>\n      <td>NaN</td>\n      <td>NaN</td>\n      <td>NaN</td>\n      <td>NaN</td>\n      <td>NaN</td>\n      <td>NaN</td>\n      <td>NaN</td>\n      <td>NaN</td>\n    </tr>\n    <tr>\n      <th>AFG</th>\n      <td>2020-01-04</td>\n      <td>0.0</td>\n      <td>0.0</td>\n      <td>0.000</td>\n      <td>0.000</td>\n      <td>0.0</td>\n      <td>NaN</td>\n      <td>NaN</td>\n      <td>NaN</td>\n      <td>NaN</td>\n      <td>...</td>\n      <td>NaN</td>\n      <td>NaN</td>\n      <td>NaN</td>\n      <td>NaN</td>\n      <td>NaN</td>\n      <td>NaN</td>\n      <td>NaN</td>\n      <td>NaN</td>\n      <td>NaN</td>\n      <td>NaN</td>\n    </tr>\n    <tr>\n      <th>...</th>\n      <td>...</td>\n      <td>...</td>\n      <td>...</td>\n      <td>...</td>\n      <td>...</td>\n      <td>...</td>\n      <td>...</td>\n      <td>...</td>\n      <td>...</td>\n      <td>...</td>\n      <td>...</td>\n      <td>...</td>\n      <td>...</td>\n      <td>...</td>\n      <td>...</td>\n      <td>...</td>\n      <td>...</td>\n      <td>...</td>\n      <td>...</td>\n      <td>...</td>\n      <td>...</td>\n    </tr>\n    <tr>\n      <th>OWID_WRL</th>\n      <td>2020-10-20</td>\n      <td>348284.0</td>\n      <td>4670.0</td>\n      <td>44.682</td>\n      <td>0.599</td>\n      <td>NaN</td>\n      <td>371120.286</td>\n      <td>5397.143</td>\n      <td>47.611</td>\n      <td>0.692</td>\n      <td>...</td>\n      <td>143.630</td>\n      <td>NaN</td>\n      <td>NaN</td>\n      <td>NaN</td>\n      <td>NaN</td>\n      <td>NaN</td>\n      <td>NaN</td>\n      <td>NaN</td>\n      <td>NaN</td>\n      <td>NaN</td>\n    </tr>\n    <tr>\n      <th>OWID_WRL</th>\n      <td>2020-10-21</td>\n      <td>391139.0</td>\n      <td>6405.0</td>\n      <td>50.179</td>\n      <td>0.822</td>\n      <td>NaN</td>\n      <td>379757.429</td>\n      <td>5522.143</td>\n      <td>48.719</td>\n      <td>0.708</td>\n      <td>...</td>\n      <td>144.452</td>\n      <td>NaN</td>\n      <td>NaN</td>\n      <td>NaN</td>\n      <td>NaN</td>\n      <td>NaN</td>\n      <td>NaN</td>\n      <td>NaN</td>\n      <td>NaN</td>\n      <td>NaN</td>\n    </tr>\n    <tr>\n      <th>OWID_WRL</th>\n      <td>2020-10-22</td>\n      <td>444483.0</td>\n      <td>6740.0</td>\n      <td>57.023</td>\n      <td>0.865</td>\n      <td>NaN</td>\n      <td>387778.429</td>\n      <td>5622.571</td>\n      <td>49.748</td>\n      <td>0.721</td>\n      <td>...</td>\n      <td>145.317</td>\n      <td>NaN</td>\n      <td>NaN</td>\n      <td>NaN</td>\n      <td>NaN</td>\n      <td>NaN</td>\n      <td>NaN</td>\n      <td>NaN</td>\n      <td>NaN</td>\n      <td>NaN</td>\n    </tr>\n    <tr>\n      <th>OWID_WRL</th>\n      <td>2020-10-23</td>\n      <td>457344.0</td>\n      <td>6349.0</td>\n      <td>58.673</td>\n      <td>0.815</td>\n      <td>NaN</td>\n      <td>395632.714</td>\n      <td>5656.571</td>\n      <td>50.756</td>\n      <td>0.726</td>\n      <td>...</td>\n      <td>146.131</td>\n      <td>NaN</td>\n      <td>NaN</td>\n      <td>NaN</td>\n      <td>NaN</td>\n      <td>NaN</td>\n      <td>NaN</td>\n      <td>NaN</td>\n      <td>NaN</td>\n      <td>NaN</td>\n    </tr>\n    <tr>\n      <th>OWID_WRL</th>\n      <td>2020-10-24</td>\n      <td>468117.0</td>\n      <td>6250.0</td>\n      <td>60.055</td>\n      <td>0.802</td>\n      <td>NaN</td>\n      <td>405812.857</td>\n      <td>5700.143</td>\n      <td>52.062</td>\n      <td>0.731</td>\n      <td>...</td>\n      <td>146.933</td>\n      <td>NaN</td>\n      <td>NaN</td>\n      <td>NaN</td>\n      <td>NaN</td>\n      <td>NaN</td>\n      <td>NaN</td>\n      <td>NaN</td>\n      <td>NaN</td>\n      <td>NaN</td>\n    </tr>\n  </tbody>\n</table>\n<p>51923 rows × 23 columns</p>\n</div>"
     },
     "metadata": {},
     "execution_count": 199
    }
   ],
   "source": [
    "timeseries_unpacked = timeseries_packed.apply(pd.Series)\n",
    "timeseries_unpacked"
   ]
  },
  {
   "source": [
    "Now we have a dataset that has a single row for each country/date pair, with the timeseries data properties expanded into columns correctly. \n",
    "\n",
    "We could leave this here and use this dataset by itself (or in conjunction with the first). \n",
    "\n",
    "There might be some calculations requiring data from both, in which case it might help to join the datasets so we have both the country properties and the timeseries data in the same `DataFrame`. We could also drop the old *data* columns as we don't need it now that we have expanded it."
   ],
   "cell_type": "markdown",
   "metadata": {}
  },
  {
   "cell_type": "code",
   "execution_count": 208,
   "metadata": {},
   "outputs": [
    {
     "output_type": "execute_result",
     "data": {
      "text/plain": [
       "         continent  location   population population_density median_age  \\\n",
       "ABW  North America     Aruba       106766              584.8       41.2   \n",
       "ABW  North America     Aruba       106766              584.8       41.2   \n",
       "ABW  North America     Aruba       106766              584.8       41.2   \n",
       "ABW  North America     Aruba       106766              584.8       41.2   \n",
       "ABW  North America     Aruba       106766              584.8       41.2   \n",
       "..             ...       ...          ...                ...        ...   \n",
       "ZWE         Africa  Zimbabwe  1.48629e+07             42.729       19.6   \n",
       "ZWE         Africa  Zimbabwe  1.48629e+07             42.729       19.6   \n",
       "ZWE         Africa  Zimbabwe  1.48629e+07             42.729       19.6   \n",
       "ZWE         Africa  Zimbabwe  1.48629e+07             42.729       19.6   \n",
       "ZWE         Africa  Zimbabwe  1.48629e+07             42.729       19.6   \n",
       "\n",
       "    aged_65_older aged_70_older gdp_per_capita cardiovasc_death_rate  \\\n",
       "ABW        13.085         7.452        35973.8                   NaN   \n",
       "ABW        13.085         7.452        35973.8                   NaN   \n",
       "ABW        13.085         7.452        35973.8                   NaN   \n",
       "ABW        13.085         7.452        35973.8                   NaN   \n",
       "ABW        13.085         7.452        35973.8                   NaN   \n",
       "..            ...           ...            ...                   ...   \n",
       "ZWE         2.822         1.882        1899.78               307.846   \n",
       "ZWE         2.822         1.882        1899.78               307.846   \n",
       "ZWE         2.822         1.882        1899.78               307.846   \n",
       "ZWE         2.822         1.882        1899.78               307.846   \n",
       "ZWE         2.822         1.882        1899.78               307.846   \n",
       "\n",
       "    diabetes_prevalence  ... total_deaths_per_million total_tests  \\\n",
       "ABW               11.62  ...                      NaN         NaN   \n",
       "ABW               11.62  ...                      NaN         NaN   \n",
       "ABW               11.62  ...                      NaN         NaN   \n",
       "ABW               11.62  ...                      NaN         NaN   \n",
       "ABW               11.62  ...                      NaN         NaN   \n",
       "..                  ...  ...                      ...         ...   \n",
       "ZWE                1.82  ...                   15.609    132239.0   \n",
       "ZWE                1.82  ...                   15.677    133044.0   \n",
       "ZWE                1.82  ...                   15.878         NaN   \n",
       "ZWE                1.82  ...                   15.878         NaN   \n",
       "ZWE                1.82  ...                   15.878         NaN   \n",
       "\n",
       "    total_tests_per_thousand      tests_units new_tests_smoothed  \\\n",
       "ABW                      NaN              NaN                NaN   \n",
       "ABW                      NaN              NaN                NaN   \n",
       "ABW                      NaN              NaN                NaN   \n",
       "ABW                      NaN              NaN                NaN   \n",
       "ABW                      NaN              NaN                NaN   \n",
       "..                       ...              ...                ...   \n",
       "ZWE                    8.897  tests performed              639.0   \n",
       "ZWE                    8.951  tests performed              666.0   \n",
       "ZWE                      NaN              NaN                NaN   \n",
       "ZWE                      NaN              NaN                NaN   \n",
       "ZWE                      NaN              NaN                NaN   \n",
       "\n",
       "    new_tests_smoothed_per_thousand tests_per_case positive_rate  new_tests  \\\n",
       "ABW                             NaN            NaN           NaN        NaN   \n",
       "ABW                             NaN            NaN           NaN        NaN   \n",
       "ABW                             NaN            NaN           NaN        NaN   \n",
       "ABW                             NaN            NaN           NaN        NaN   \n",
       "ABW                             NaN            NaN           NaN        NaN   \n",
       "..                              ...            ...           ...        ...   \n",
       "ZWE                           0.043         32.413         0.031      791.0   \n",
       "ZWE                           0.045         30.874         0.032      805.0   \n",
       "ZWE                             NaN            NaN           NaN        NaN   \n",
       "ZWE                             NaN            NaN           NaN        NaN   \n",
       "ZWE                             NaN            NaN           NaN        NaN   \n",
       "\n",
       "     new_tests_per_thousand  \n",
       "ABW                     NaN  \n",
       "ABW                     NaN  \n",
       "ABW                     NaN  \n",
       "ABW                     NaN  \n",
       "ABW                     NaN  \n",
       "..                      ...  \n",
       "ZWE                   0.053  \n",
       "ZWE                   0.054  \n",
       "ZWE                     NaN  \n",
       "ZWE                     NaN  \n",
       "ZWE                     NaN  \n",
       "\n",
       "[51923 rows x 40 columns]"
      ],
      "text/html": "<div>\n<style scoped>\n    .dataframe tbody tr th:only-of-type {\n        vertical-align: middle;\n    }\n\n    .dataframe tbody tr th {\n        vertical-align: top;\n    }\n\n    .dataframe thead th {\n        text-align: right;\n    }\n</style>\n<table border=\"1\" class=\"dataframe\">\n  <thead>\n    <tr style=\"text-align: right;\">\n      <th></th>\n      <th>continent</th>\n      <th>location</th>\n      <th>population</th>\n      <th>population_density</th>\n      <th>median_age</th>\n      <th>aged_65_older</th>\n      <th>aged_70_older</th>\n      <th>gdp_per_capita</th>\n      <th>cardiovasc_death_rate</th>\n      <th>diabetes_prevalence</th>\n      <th>...</th>\n      <th>total_deaths_per_million</th>\n      <th>total_tests</th>\n      <th>total_tests_per_thousand</th>\n      <th>tests_units</th>\n      <th>new_tests_smoothed</th>\n      <th>new_tests_smoothed_per_thousand</th>\n      <th>tests_per_case</th>\n      <th>positive_rate</th>\n      <th>new_tests</th>\n      <th>new_tests_per_thousand</th>\n    </tr>\n  </thead>\n  <tbody>\n    <tr>\n      <th>ABW</th>\n      <td>North America</td>\n      <td>Aruba</td>\n      <td>106766</td>\n      <td>584.8</td>\n      <td>41.2</td>\n      <td>13.085</td>\n      <td>7.452</td>\n      <td>35973.8</td>\n      <td>NaN</td>\n      <td>11.62</td>\n      <td>...</td>\n      <td>NaN</td>\n      <td>NaN</td>\n      <td>NaN</td>\n      <td>NaN</td>\n      <td>NaN</td>\n      <td>NaN</td>\n      <td>NaN</td>\n      <td>NaN</td>\n      <td>NaN</td>\n      <td>NaN</td>\n    </tr>\n    <tr>\n      <th>ABW</th>\n      <td>North America</td>\n      <td>Aruba</td>\n      <td>106766</td>\n      <td>584.8</td>\n      <td>41.2</td>\n      <td>13.085</td>\n      <td>7.452</td>\n      <td>35973.8</td>\n      <td>NaN</td>\n      <td>11.62</td>\n      <td>...</td>\n      <td>NaN</td>\n      <td>NaN</td>\n      <td>NaN</td>\n      <td>NaN</td>\n      <td>NaN</td>\n      <td>NaN</td>\n      <td>NaN</td>\n      <td>NaN</td>\n      <td>NaN</td>\n      <td>NaN</td>\n    </tr>\n    <tr>\n      <th>ABW</th>\n      <td>North America</td>\n      <td>Aruba</td>\n      <td>106766</td>\n      <td>584.8</td>\n      <td>41.2</td>\n      <td>13.085</td>\n      <td>7.452</td>\n      <td>35973.8</td>\n      <td>NaN</td>\n      <td>11.62</td>\n      <td>...</td>\n      <td>NaN</td>\n      <td>NaN</td>\n      <td>NaN</td>\n      <td>NaN</td>\n      <td>NaN</td>\n      <td>NaN</td>\n      <td>NaN</td>\n      <td>NaN</td>\n      <td>NaN</td>\n      <td>NaN</td>\n    </tr>\n    <tr>\n      <th>ABW</th>\n      <td>North America</td>\n      <td>Aruba</td>\n      <td>106766</td>\n      <td>584.8</td>\n      <td>41.2</td>\n      <td>13.085</td>\n      <td>7.452</td>\n      <td>35973.8</td>\n      <td>NaN</td>\n      <td>11.62</td>\n      <td>...</td>\n      <td>NaN</td>\n      <td>NaN</td>\n      <td>NaN</td>\n      <td>NaN</td>\n      <td>NaN</td>\n      <td>NaN</td>\n      <td>NaN</td>\n      <td>NaN</td>\n      <td>NaN</td>\n      <td>NaN</td>\n    </tr>\n    <tr>\n      <th>ABW</th>\n      <td>North America</td>\n      <td>Aruba</td>\n      <td>106766</td>\n      <td>584.8</td>\n      <td>41.2</td>\n      <td>13.085</td>\n      <td>7.452</td>\n      <td>35973.8</td>\n      <td>NaN</td>\n      <td>11.62</td>\n      <td>...</td>\n      <td>NaN</td>\n      <td>NaN</td>\n      <td>NaN</td>\n      <td>NaN</td>\n      <td>NaN</td>\n      <td>NaN</td>\n      <td>NaN</td>\n      <td>NaN</td>\n      <td>NaN</td>\n      <td>NaN</td>\n    </tr>\n    <tr>\n      <th>...</th>\n      <td>...</td>\n      <td>...</td>\n      <td>...</td>\n      <td>...</td>\n      <td>...</td>\n      <td>...</td>\n      <td>...</td>\n      <td>...</td>\n      <td>...</td>\n      <td>...</td>\n      <td>...</td>\n      <td>...</td>\n      <td>...</td>\n      <td>...</td>\n      <td>...</td>\n      <td>...</td>\n      <td>...</td>\n      <td>...</td>\n      <td>...</td>\n      <td>...</td>\n      <td>...</td>\n    </tr>\n    <tr>\n      <th>ZWE</th>\n      <td>Africa</td>\n      <td>Zimbabwe</td>\n      <td>1.48629e+07</td>\n      <td>42.729</td>\n      <td>19.6</td>\n      <td>2.822</td>\n      <td>1.882</td>\n      <td>1899.78</td>\n      <td>307.846</td>\n      <td>1.82</td>\n      <td>...</td>\n      <td>15.609</td>\n      <td>132239.0</td>\n      <td>8.897</td>\n      <td>tests performed</td>\n      <td>639.0</td>\n      <td>0.043</td>\n      <td>32.413</td>\n      <td>0.031</td>\n      <td>791.0</td>\n      <td>0.053</td>\n    </tr>\n    <tr>\n      <th>ZWE</th>\n      <td>Africa</td>\n      <td>Zimbabwe</td>\n      <td>1.48629e+07</td>\n      <td>42.729</td>\n      <td>19.6</td>\n      <td>2.822</td>\n      <td>1.882</td>\n      <td>1899.78</td>\n      <td>307.846</td>\n      <td>1.82</td>\n      <td>...</td>\n      <td>15.677</td>\n      <td>133044.0</td>\n      <td>8.951</td>\n      <td>tests performed</td>\n      <td>666.0</td>\n      <td>0.045</td>\n      <td>30.874</td>\n      <td>0.032</td>\n      <td>805.0</td>\n      <td>0.054</td>\n    </tr>\n    <tr>\n      <th>ZWE</th>\n      <td>Africa</td>\n      <td>Zimbabwe</td>\n      <td>1.48629e+07</td>\n      <td>42.729</td>\n      <td>19.6</td>\n      <td>2.822</td>\n      <td>1.882</td>\n      <td>1899.78</td>\n      <td>307.846</td>\n      <td>1.82</td>\n      <td>...</td>\n      <td>15.878</td>\n      <td>NaN</td>\n      <td>NaN</td>\n      <td>NaN</td>\n      <td>NaN</td>\n      <td>NaN</td>\n      <td>NaN</td>\n      <td>NaN</td>\n      <td>NaN</td>\n      <td>NaN</td>\n    </tr>\n    <tr>\n      <th>ZWE</th>\n      <td>Africa</td>\n      <td>Zimbabwe</td>\n      <td>1.48629e+07</td>\n      <td>42.729</td>\n      <td>19.6</td>\n      <td>2.822</td>\n      <td>1.882</td>\n      <td>1899.78</td>\n      <td>307.846</td>\n      <td>1.82</td>\n      <td>...</td>\n      <td>15.878</td>\n      <td>NaN</td>\n      <td>NaN</td>\n      <td>NaN</td>\n      <td>NaN</td>\n      <td>NaN</td>\n      <td>NaN</td>\n      <td>NaN</td>\n      <td>NaN</td>\n      <td>NaN</td>\n    </tr>\n    <tr>\n      <th>ZWE</th>\n      <td>Africa</td>\n      <td>Zimbabwe</td>\n      <td>1.48629e+07</td>\n      <td>42.729</td>\n      <td>19.6</td>\n      <td>2.822</td>\n      <td>1.882</td>\n      <td>1899.78</td>\n      <td>307.846</td>\n      <td>1.82</td>\n      <td>...</td>\n      <td>15.878</td>\n      <td>NaN</td>\n      <td>NaN</td>\n      <td>NaN</td>\n      <td>NaN</td>\n      <td>NaN</td>\n      <td>NaN</td>\n      <td>NaN</td>\n      <td>NaN</td>\n      <td>NaN</td>\n    </tr>\n  </tbody>\n</table>\n<p>51923 rows × 40 columns</p>\n</div>"
     },
     "metadata": {},
     "execution_count": 208
    }
   ],
   "source": [
    "joined_df = df2.drop('data', axis='columns').join(timeseries_unpacked)\n",
    "joined_df"
   ]
  },
  {
   "source": [
    "Because each row represents a country/date pair, you can see that the country properties are replicated for each row. This isn't a problem.\n",
    "\n",
    "We can make the dataset a little clearer by using a multi-dimensional index (country-date)\n"
   ],
   "cell_type": "markdown",
   "metadata": {}
  },
  {
   "cell_type": "code",
   "execution_count": 213,
   "metadata": {},
   "outputs": [
    {
     "output_type": "execute_result",
     "data": {
      "text/plain": [
       "                    continent  location   population population_density  \\\n",
       "    date                                                                  \n",
       "ABW 2020-03-13  North America     Aruba       106766              584.8   \n",
       "    2020-03-19  North America     Aruba       106766              584.8   \n",
       "    2020-03-20  North America     Aruba       106766              584.8   \n",
       "    2020-03-21  North America     Aruba       106766              584.8   \n",
       "    2020-03-22  North America     Aruba       106766              584.8   \n",
       "...                       ...       ...          ...                ...   \n",
       "ZWE 2020-10-20         Africa  Zimbabwe  1.48629e+07             42.729   \n",
       "    2020-10-21         Africa  Zimbabwe  1.48629e+07             42.729   \n",
       "    2020-10-22         Africa  Zimbabwe  1.48629e+07             42.729   \n",
       "    2020-10-23         Africa  Zimbabwe  1.48629e+07             42.729   \n",
       "    2020-10-24         Africa  Zimbabwe  1.48629e+07             42.729   \n",
       "\n",
       "               median_age aged_65_older aged_70_older gdp_per_capita  \\\n",
       "    date                                                               \n",
       "ABW 2020-03-13       41.2        13.085         7.452        35973.8   \n",
       "    2020-03-19       41.2        13.085         7.452        35973.8   \n",
       "    2020-03-20       41.2        13.085         7.452        35973.8   \n",
       "    2020-03-21       41.2        13.085         7.452        35973.8   \n",
       "    2020-03-22       41.2        13.085         7.452        35973.8   \n",
       "...                   ...           ...           ...            ...   \n",
       "ZWE 2020-10-20       19.6         2.822         1.882        1899.78   \n",
       "    2020-10-21       19.6         2.822         1.882        1899.78   \n",
       "    2020-10-22       19.6         2.822         1.882        1899.78   \n",
       "    2020-10-23       19.6         2.822         1.882        1899.78   \n",
       "    2020-10-24       19.6         2.822         1.882        1899.78   \n",
       "\n",
       "               cardiovasc_death_rate diabetes_prevalence  ...  \\\n",
       "    date                                                  ...   \n",
       "ABW 2020-03-13                   NaN               11.62  ...   \n",
       "    2020-03-19                   NaN               11.62  ...   \n",
       "    2020-03-20                   NaN               11.62  ...   \n",
       "    2020-03-21                   NaN               11.62  ...   \n",
       "    2020-03-22                   NaN               11.62  ...   \n",
       "...                              ...                 ...  ...   \n",
       "ZWE 2020-10-20               307.846                1.82  ...   \n",
       "    2020-10-21               307.846                1.82  ...   \n",
       "    2020-10-22               307.846                1.82  ...   \n",
       "    2020-10-23               307.846                1.82  ...   \n",
       "    2020-10-24               307.846                1.82  ...   \n",
       "\n",
       "               total_deaths_per_million total_tests total_tests_per_thousand  \\\n",
       "    date                                                                       \n",
       "ABW 2020-03-13                      NaN         NaN                      NaN   \n",
       "    2020-03-19                      NaN         NaN                      NaN   \n",
       "    2020-03-20                      NaN         NaN                      NaN   \n",
       "    2020-03-21                      NaN         NaN                      NaN   \n",
       "    2020-03-22                      NaN         NaN                      NaN   \n",
       "...                                 ...         ...                      ...   \n",
       "ZWE 2020-10-20                   15.609    132239.0                    8.897   \n",
       "    2020-10-21                   15.677    133044.0                    8.951   \n",
       "    2020-10-22                   15.878         NaN                      NaN   \n",
       "    2020-10-23                   15.878         NaN                      NaN   \n",
       "    2020-10-24                   15.878         NaN                      NaN   \n",
       "\n",
       "                    tests_units new_tests_smoothed  \\\n",
       "    date                                             \n",
       "ABW 2020-03-13              NaN                NaN   \n",
       "    2020-03-19              NaN                NaN   \n",
       "    2020-03-20              NaN                NaN   \n",
       "    2020-03-21              NaN                NaN   \n",
       "    2020-03-22              NaN                NaN   \n",
       "...                         ...                ...   \n",
       "ZWE 2020-10-20  tests performed              639.0   \n",
       "    2020-10-21  tests performed              666.0   \n",
       "    2020-10-22              NaN                NaN   \n",
       "    2020-10-23              NaN                NaN   \n",
       "    2020-10-24              NaN                NaN   \n",
       "\n",
       "               new_tests_smoothed_per_thousand tests_per_case positive_rate  \\\n",
       "    date                                                                      \n",
       "ABW 2020-03-13                             NaN            NaN           NaN   \n",
       "    2020-03-19                             NaN            NaN           NaN   \n",
       "    2020-03-20                             NaN            NaN           NaN   \n",
       "    2020-03-21                             NaN            NaN           NaN   \n",
       "    2020-03-22                             NaN            NaN           NaN   \n",
       "...                                        ...            ...           ...   \n",
       "ZWE 2020-10-20                           0.043         32.413         0.031   \n",
       "    2020-10-21                           0.045         30.874         0.032   \n",
       "    2020-10-22                             NaN            NaN           NaN   \n",
       "    2020-10-23                             NaN            NaN           NaN   \n",
       "    2020-10-24                             NaN            NaN           NaN   \n",
       "\n",
       "                new_tests  new_tests_per_thousand  \n",
       "    date                                           \n",
       "ABW 2020-03-13        NaN                     NaN  \n",
       "    2020-03-19        NaN                     NaN  \n",
       "    2020-03-20        NaN                     NaN  \n",
       "    2020-03-21        NaN                     NaN  \n",
       "    2020-03-22        NaN                     NaN  \n",
       "...                   ...                     ...  \n",
       "ZWE 2020-10-20      791.0                   0.053  \n",
       "    2020-10-21      805.0                   0.054  \n",
       "    2020-10-22        NaN                     NaN  \n",
       "    2020-10-23        NaN                     NaN  \n",
       "    2020-10-24        NaN                     NaN  \n",
       "\n",
       "[51923 rows x 40 columns]"
      ],
      "text/html": "<div>\n<style scoped>\n    .dataframe tbody tr th:only-of-type {\n        vertical-align: middle;\n    }\n\n    .dataframe tbody tr th {\n        vertical-align: top;\n    }\n\n    .dataframe thead th {\n        text-align: right;\n    }\n</style>\n<table border=\"1\" class=\"dataframe\">\n  <thead>\n    <tr style=\"text-align: right;\">\n      <th></th>\n      <th></th>\n      <th>continent</th>\n      <th>location</th>\n      <th>population</th>\n      <th>population_density</th>\n      <th>median_age</th>\n      <th>aged_65_older</th>\n      <th>aged_70_older</th>\n      <th>gdp_per_capita</th>\n      <th>cardiovasc_death_rate</th>\n      <th>diabetes_prevalence</th>\n      <th>...</th>\n      <th>total_deaths_per_million</th>\n      <th>total_tests</th>\n      <th>total_tests_per_thousand</th>\n      <th>tests_units</th>\n      <th>new_tests_smoothed</th>\n      <th>new_tests_smoothed_per_thousand</th>\n      <th>tests_per_case</th>\n      <th>positive_rate</th>\n      <th>new_tests</th>\n      <th>new_tests_per_thousand</th>\n    </tr>\n    <tr>\n      <th></th>\n      <th>date</th>\n      <th></th>\n      <th></th>\n      <th></th>\n      <th></th>\n      <th></th>\n      <th></th>\n      <th></th>\n      <th></th>\n      <th></th>\n      <th></th>\n      <th></th>\n      <th></th>\n      <th></th>\n      <th></th>\n      <th></th>\n      <th></th>\n      <th></th>\n      <th></th>\n      <th></th>\n      <th></th>\n      <th></th>\n    </tr>\n  </thead>\n  <tbody>\n    <tr>\n      <th rowspan=\"5\" valign=\"top\">ABW</th>\n      <th>2020-03-13</th>\n      <td>North America</td>\n      <td>Aruba</td>\n      <td>106766</td>\n      <td>584.8</td>\n      <td>41.2</td>\n      <td>13.085</td>\n      <td>7.452</td>\n      <td>35973.8</td>\n      <td>NaN</td>\n      <td>11.62</td>\n      <td>...</td>\n      <td>NaN</td>\n      <td>NaN</td>\n      <td>NaN</td>\n      <td>NaN</td>\n      <td>NaN</td>\n      <td>NaN</td>\n      <td>NaN</td>\n      <td>NaN</td>\n      <td>NaN</td>\n      <td>NaN</td>\n    </tr>\n    <tr>\n      <th>2020-03-19</th>\n      <td>North America</td>\n      <td>Aruba</td>\n      <td>106766</td>\n      <td>584.8</td>\n      <td>41.2</td>\n      <td>13.085</td>\n      <td>7.452</td>\n      <td>35973.8</td>\n      <td>NaN</td>\n      <td>11.62</td>\n      <td>...</td>\n      <td>NaN</td>\n      <td>NaN</td>\n      <td>NaN</td>\n      <td>NaN</td>\n      <td>NaN</td>\n      <td>NaN</td>\n      <td>NaN</td>\n      <td>NaN</td>\n      <td>NaN</td>\n      <td>NaN</td>\n    </tr>\n    <tr>\n      <th>2020-03-20</th>\n      <td>North America</td>\n      <td>Aruba</td>\n      <td>106766</td>\n      <td>584.8</td>\n      <td>41.2</td>\n      <td>13.085</td>\n      <td>7.452</td>\n      <td>35973.8</td>\n      <td>NaN</td>\n      <td>11.62</td>\n      <td>...</td>\n      <td>NaN</td>\n      <td>NaN</td>\n      <td>NaN</td>\n      <td>NaN</td>\n      <td>NaN</td>\n      <td>NaN</td>\n      <td>NaN</td>\n      <td>NaN</td>\n      <td>NaN</td>\n      <td>NaN</td>\n    </tr>\n    <tr>\n      <th>2020-03-21</th>\n      <td>North America</td>\n      <td>Aruba</td>\n      <td>106766</td>\n      <td>584.8</td>\n      <td>41.2</td>\n      <td>13.085</td>\n      <td>7.452</td>\n      <td>35973.8</td>\n      <td>NaN</td>\n      <td>11.62</td>\n      <td>...</td>\n      <td>NaN</td>\n      <td>NaN</td>\n      <td>NaN</td>\n      <td>NaN</td>\n      <td>NaN</td>\n      <td>NaN</td>\n      <td>NaN</td>\n      <td>NaN</td>\n      <td>NaN</td>\n      <td>NaN</td>\n    </tr>\n    <tr>\n      <th>2020-03-22</th>\n      <td>North America</td>\n      <td>Aruba</td>\n      <td>106766</td>\n      <td>584.8</td>\n      <td>41.2</td>\n      <td>13.085</td>\n      <td>7.452</td>\n      <td>35973.8</td>\n      <td>NaN</td>\n      <td>11.62</td>\n      <td>...</td>\n      <td>NaN</td>\n      <td>NaN</td>\n      <td>NaN</td>\n      <td>NaN</td>\n      <td>NaN</td>\n      <td>NaN</td>\n      <td>NaN</td>\n      <td>NaN</td>\n      <td>NaN</td>\n      <td>NaN</td>\n    </tr>\n    <tr>\n      <th>...</th>\n      <th>...</th>\n      <td>...</td>\n      <td>...</td>\n      <td>...</td>\n      <td>...</td>\n      <td>...</td>\n      <td>...</td>\n      <td>...</td>\n      <td>...</td>\n      <td>...</td>\n      <td>...</td>\n      <td>...</td>\n      <td>...</td>\n      <td>...</td>\n      <td>...</td>\n      <td>...</td>\n      <td>...</td>\n      <td>...</td>\n      <td>...</td>\n      <td>...</td>\n      <td>...</td>\n      <td>...</td>\n    </tr>\n    <tr>\n      <th rowspan=\"5\" valign=\"top\">ZWE</th>\n      <th>2020-10-20</th>\n      <td>Africa</td>\n      <td>Zimbabwe</td>\n      <td>1.48629e+07</td>\n      <td>42.729</td>\n      <td>19.6</td>\n      <td>2.822</td>\n      <td>1.882</td>\n      <td>1899.78</td>\n      <td>307.846</td>\n      <td>1.82</td>\n      <td>...</td>\n      <td>15.609</td>\n      <td>132239.0</td>\n      <td>8.897</td>\n      <td>tests performed</td>\n      <td>639.0</td>\n      <td>0.043</td>\n      <td>32.413</td>\n      <td>0.031</td>\n      <td>791.0</td>\n      <td>0.053</td>\n    </tr>\n    <tr>\n      <th>2020-10-21</th>\n      <td>Africa</td>\n      <td>Zimbabwe</td>\n      <td>1.48629e+07</td>\n      <td>42.729</td>\n      <td>19.6</td>\n      <td>2.822</td>\n      <td>1.882</td>\n      <td>1899.78</td>\n      <td>307.846</td>\n      <td>1.82</td>\n      <td>...</td>\n      <td>15.677</td>\n      <td>133044.0</td>\n      <td>8.951</td>\n      <td>tests performed</td>\n      <td>666.0</td>\n      <td>0.045</td>\n      <td>30.874</td>\n      <td>0.032</td>\n      <td>805.0</td>\n      <td>0.054</td>\n    </tr>\n    <tr>\n      <th>2020-10-22</th>\n      <td>Africa</td>\n      <td>Zimbabwe</td>\n      <td>1.48629e+07</td>\n      <td>42.729</td>\n      <td>19.6</td>\n      <td>2.822</td>\n      <td>1.882</td>\n      <td>1899.78</td>\n      <td>307.846</td>\n      <td>1.82</td>\n      <td>...</td>\n      <td>15.878</td>\n      <td>NaN</td>\n      <td>NaN</td>\n      <td>NaN</td>\n      <td>NaN</td>\n      <td>NaN</td>\n      <td>NaN</td>\n      <td>NaN</td>\n      <td>NaN</td>\n      <td>NaN</td>\n    </tr>\n    <tr>\n      <th>2020-10-23</th>\n      <td>Africa</td>\n      <td>Zimbabwe</td>\n      <td>1.48629e+07</td>\n      <td>42.729</td>\n      <td>19.6</td>\n      <td>2.822</td>\n      <td>1.882</td>\n      <td>1899.78</td>\n      <td>307.846</td>\n      <td>1.82</td>\n      <td>...</td>\n      <td>15.878</td>\n      <td>NaN</td>\n      <td>NaN</td>\n      <td>NaN</td>\n      <td>NaN</td>\n      <td>NaN</td>\n      <td>NaN</td>\n      <td>NaN</td>\n      <td>NaN</td>\n      <td>NaN</td>\n    </tr>\n    <tr>\n      <th>2020-10-24</th>\n      <td>Africa</td>\n      <td>Zimbabwe</td>\n      <td>1.48629e+07</td>\n      <td>42.729</td>\n      <td>19.6</td>\n      <td>2.822</td>\n      <td>1.882</td>\n      <td>1899.78</td>\n      <td>307.846</td>\n      <td>1.82</td>\n      <td>...</td>\n      <td>15.878</td>\n      <td>NaN</td>\n      <td>NaN</td>\n      <td>NaN</td>\n      <td>NaN</td>\n      <td>NaN</td>\n      <td>NaN</td>\n      <td>NaN</td>\n      <td>NaN</td>\n      <td>NaN</td>\n    </tr>\n  </tbody>\n</table>\n<p>51923 rows × 40 columns</p>\n</div>"
     },
     "metadata": {},
     "execution_count": 213
    }
   ],
   "source": [
    "final_df = joined_df.set_index('date', append=True, drop=False)\n",
    "final_df"
   ]
  }
 ]
}